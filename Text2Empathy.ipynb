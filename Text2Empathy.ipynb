{
 "cells": [
  {
   "cell_type": "raw",
   "metadata": {},
   "source": [
    "Copyright [zashio]\n",
    "\n",
    "Licensed under the Apache License, Version 2.0 (the \"License\");\n",
    "you may not use this file except in compliance with the License.\n",
    "You may obtain a copy of the License at\n",
    "\n",
    "    http://www.apache.org/licenses/LICENSE-2.0\n",
    "\n",
    "Unless required by applicable law or agreed to in writing, software\n",
    "distributed under the License is distributed on an \"AS IS\" BASIS,\n",
    "WITHOUT WARRANTIES OR CONDITIONS OF ANY KIND, either express or implied.\n",
    "See the License for the specific language governing permissions and\n",
    "limitations under the License."
   ]
  },
  {
   "cell_type": "code",
   "execution_count": 4,
   "metadata": {},
   "outputs": [],
   "source": [
    "import os\n",
    "os.environ[\"GOOGLE_APPLICATION_CREDENTIALS\"]= \"C:/Users/USER02/Documents/Voice2Text.json\""
   ]
  },
  {
   "cell_type": "code",
   "execution_count": 5,
   "metadata": {},
   "outputs": [],
   "source": [
    "\n",
    "\"\"\"Analyzes text using the Google Cloud Natural Language API.\"\"\"\n",
    "\n",
    "import argparse\n",
    "import json\n",
    "import sys\n",
    "\n",
    "\n",
    "def get_native_encoding_type():\n",
    "    \"\"\"Returns the encoding type that matches Python's native strings.\"\"\"\n",
    "    if sys.maxunicode == 65535:\n",
    "        return 'UTF16'\n",
    "    else:\n",
    "        return 'UTF32'\n",
    "\n",
    "\n",
    "def analyze_entities(text, encoding='UTF32'):\n",
    "    body = {\n",
    "        'document': {\n",
    "            'type': 'PLAIN_TEXT',\n",
    "            'content': text,\n",
    "        },\n",
    "        'encoding_type': encoding,\n",
    "    }\n",
    "\n",
    "    service = googleapiclient.discovery.build('language', 'v1')\n",
    "\n",
    "    request = service.documents().analyzeEntities(body=body)\n",
    "    response = request.execute()\n",
    "\n",
    "    return response\n",
    "\n",
    "\n",
    "def analyze_sentiment(text, encoding='utf-8'):\n",
    "    body = {\n",
    "        'document': {\n",
    "            'type': 'PLAIN_TEXT',\n",
    "            'content': text,\n",
    "        },\n",
    "        'encoding_type': encoding\n",
    "    }\n",
    "\n",
    "    service = googleapiclient.discovery.build('language', 'v1')\n",
    "\n",
    "    request = service.documents().analyzeSentiment(body=body)\n",
    "    response = request.execute()\n",
    "\n",
    "    return response\n",
    "\n",
    "\n",
    "def analyze_syntax(text, encoding='UTF32'):\n",
    "    body = {\n",
    "        'document': {\n",
    "            'type': 'PLAIN_TEXT',\n",
    "            'content': text,\n",
    "        },\n",
    "        'encoding_type': encoding\n",
    "    }\n",
    "\n",
    "    service = googleapiclient.discovery.build('language', 'v1')\n",
    "\n",
    "    request = service.documents().analyzeSyntax(body=body)\n",
    "    response = request.execute()\n",
    "\n",
    "    return response\n",
    "\n",
    "\n",
    "#if __name__ == '__main__':\n",
    "\n",
    "#    parser = argparse.ArgumentParser(\n",
    "#        description=__doc__,\n",
    "#        formatter_class=argparse.RawDescriptionHelpFormatter)\n",
    "#    parser.add_argument('command', choices=[\n",
    "#        'entities', 'sentiment', 'syntax'])\n",
    "#    parser.add_argument('text')\n",
    "\n",
    "#    args = parser.parse_args()\n",
    "\n",
    "#    if args.command == 'entities':\n",
    "#        result = analyze_entities(args.text, get_native_encoding_type())\n",
    "#    elif args.command == 'sentiment':\n",
    "#        result = analyze_sentiment(args.text, get_native_encoding_type())\n",
    "#    elif args.command == 'syntax':\n",
    "#        result = analyze_syntax(args.text, get_native_encoding_type())\n",
    "\n",
    "#    print(json.dumps(result, indent=2))"
   ]
  },
  {
   "cell_type": "code",
   "execution_count": 6,
   "metadata": {},
   "outputs": [
    {
     "name": "stdout",
     "output_type": "stream",
     "text": [
      "﻿私が死んでも誰も悲しまない。辛い、苦しい、最悪だ。生きる価値がない。\n"
     ]
    },
    {
     "ename": "NameError",
     "evalue": "name 'googleapiclient' is not defined",
     "output_type": "error",
     "traceback": [
      "\u001b[1;31m---------------------------------------------------------------------------\u001b[0m",
      "\u001b[1;31mNameError\u001b[0m                                 Traceback (most recent call last)",
      "\u001b[1;32m<ipython-input-6-220c36b84ff5>\u001b[0m in \u001b[0;36m<module>\u001b[1;34m\u001b[0m\n\u001b[0;32m      7\u001b[0m \u001b[1;33m\u001b[0m\u001b[0m\n\u001b[0;32m      8\u001b[0m     \u001b[0mprint\u001b[0m\u001b[1;33m(\u001b[0m\u001b[0mmail_contents\u001b[0m\u001b[1;33m)\u001b[0m\u001b[1;33m\u001b[0m\u001b[0m\n\u001b[1;32m----> 9\u001b[1;33m     \u001b[0mresult\u001b[0m \u001b[1;33m=\u001b[0m \u001b[0manalyze_sentiment\u001b[0m\u001b[1;33m(\u001b[0m\u001b[0mmail_contents\u001b[0m\u001b[1;33m,\u001b[0m \u001b[0mget_native_encoding_type\u001b[0m\u001b[1;33m(\u001b[0m\u001b[1;33m)\u001b[0m\u001b[1;33m)\u001b[0m\u001b[1;33m\u001b[0m\u001b[0m\n\u001b[0m\u001b[0;32m     10\u001b[0m     \u001b[0mprint\u001b[0m\u001b[1;33m(\u001b[0m\u001b[0mjson\u001b[0m\u001b[1;33m.\u001b[0m\u001b[0mdumps\u001b[0m\u001b[1;33m(\u001b[0m\u001b[0mresult\u001b[0m\u001b[1;33m,\u001b[0m \u001b[0mindent\u001b[0m\u001b[1;33m=\u001b[0m\u001b[1;36m2\u001b[0m\u001b[1;33m)\u001b[0m\u001b[1;33m)\u001b[0m\u001b[1;33m\u001b[0m\u001b[0m\n",
      "\u001b[1;32m<ipython-input-5-10f97ab9734e>\u001b[0m in \u001b[0;36manalyze_sentiment\u001b[1;34m(text, encoding)\u001b[0m\n\u001b[0;32m     41\u001b[0m     }\n\u001b[0;32m     42\u001b[0m \u001b[1;33m\u001b[0m\u001b[0m\n\u001b[1;32m---> 43\u001b[1;33m     \u001b[0mservice\u001b[0m \u001b[1;33m=\u001b[0m \u001b[0mgoogleapiclient\u001b[0m\u001b[1;33m.\u001b[0m\u001b[0mdiscovery\u001b[0m\u001b[1;33m.\u001b[0m\u001b[0mbuild\u001b[0m\u001b[1;33m(\u001b[0m\u001b[1;34m'language'\u001b[0m\u001b[1;33m,\u001b[0m \u001b[1;34m'v1'\u001b[0m\u001b[1;33m)\u001b[0m\u001b[1;33m\u001b[0m\u001b[0m\n\u001b[0m\u001b[0;32m     44\u001b[0m \u001b[1;33m\u001b[0m\u001b[0m\n\u001b[0;32m     45\u001b[0m     \u001b[0mrequest\u001b[0m \u001b[1;33m=\u001b[0m \u001b[0mservice\u001b[0m\u001b[1;33m.\u001b[0m\u001b[0mdocuments\u001b[0m\u001b[1;33m(\u001b[0m\u001b[1;33m)\u001b[0m\u001b[1;33m.\u001b[0m\u001b[0manalyzeSentiment\u001b[0m\u001b[1;33m(\u001b[0m\u001b[0mbody\u001b[0m\u001b[1;33m=\u001b[0m\u001b[0mbody\u001b[0m\u001b[1;33m)\u001b[0m\u001b[1;33m\u001b[0m\u001b[0m\n",
      "\u001b[1;31mNameError\u001b[0m: name 'googleapiclient' is not defined"
     ]
    }
   ],
   "source": [
    "if __name__ == '__main__':\n",
    "    mail_contents = ''\n",
    "    with open('sampleTexts/negativeText2.txt', encoding = 'utf-8') as f:\n",
    "        for line in f:\n",
    "            line = line.rstrip()\n",
    "            mail_contents += line\n",
    "\n",
    "    print(mail_contents)\n",
    "    result = analyze_sentiment(mail_contents, get_native_encoding_type())\n",
    "    print(json.dumps(result, indent=2))"
   ]
  },
  {
   "cell_type": "code",
   "execution_count": null,
   "metadata": {},
   "outputs": [],
   "source": []
  }
 ],
 "metadata": {
  "kernelspec": {
   "display_name": "Python 3",
   "language": "python",
   "name": "python3"
  },
  "language_info": {
   "codemirror_mode": {
    "name": "ipython",
    "version": 3
   },
   "file_extension": ".py",
   "mimetype": "text/x-python",
   "name": "python",
   "nbconvert_exporter": "python",
   "pygments_lexer": "ipython3",
   "version": "3.6.6"
  }
 },
 "nbformat": 4,
 "nbformat_minor": 2
}
